{
 "cells": [
  {
   "cell_type": "code",
   "execution_count": 1,
   "metadata": {},
   "outputs": [],
   "source": [
    "import os \n",
    "import tensorflow as tf \n",
    "from PIL import Image  \n",
    "import matplotlib.pyplot as plt \n",
    "import numpy as np"
   ]
  },
  {
   "cell_type": "code",
   "execution_count": 3,
   "metadata": {},
   "outputs": [],
   "source": [
    "cwd='./train/'\n",
    "classes={'dog','cat'}  #人为设定2类\n",
    "writer= tf.io.TFRecordWriter(\"dog_and_cat_train.tfrecords\") #要生成的文件"
   ]
  },
  {
   "cell_type": "code",
   "execution_count": 4,
   "metadata": {},
   "outputs": [
    {
     "name": "stdout",
     "output_type": "stream",
     "text": [
      "(75, 75, 3)\n",
      "(75, 75, 3)\n",
      "(75, 75, 3)\n",
      "(75, 75, 3)\n",
      "(75, 75, 3)\n",
      "(75, 75, 3)\n",
      "(75, 75, 3)\n",
      "(75, 75, 3)\n",
      "(75, 75, 3)\n",
      "(75, 75, 3)\n",
      "(75, 75, 3)\n",
      "(75, 75, 3)\n",
      "(75, 75, 3)\n",
      "(75, 75, 3)\n",
      "(75, 75, 3)\n",
      "(75, 75, 3)\n",
      "(75, 75, 3)\n",
      "(75, 75, 3)\n",
      "(75, 75, 3)\n",
      "(75, 75, 3)\n"
     ]
    }
   ],
   "source": [
    "for index,name in enumerate(classes):\n",
    "    class_path=cwd+name+'/'\n",
    "    for img_name in os.listdir(class_path): \n",
    "        img_path=class_path+img_name #每一个图片的地址\n",
    " \n",
    "        img=Image.open(img_path)\n",
    "        img= img.resize((75,75))\n",
    "        print(np.shape(img))\n",
    "        img_raw=img.tobytes()#将图片转化为二进制格式\n",
    "        example = tf.train.Example(features=tf.train.Features(feature={\n",
    "            \"label\": tf.train.Feature(int64_list=tf.train.Int64List(value=[index])),\n",
    "            'img_raw': tf.train.Feature(bytes_list=tf.train.BytesList(value=[img_raw]))\n",
    "        })) #example对象对label和image数据进行封装\n",
    "        writer.write(example.SerializeToString())  #序列化为字符串\n",
    " \n",
    "writer.close()"
   ]
  },
  {
   "cell_type": "code",
   "execution_count": null,
   "metadata": {},
   "outputs": [],
   "source": []
  }
 ],
 "metadata": {
  "kernelspec": {
   "display_name": "Python 3",
   "language": "python",
   "name": "python3"
  },
  "language_info": {
   "codemirror_mode": {
    "name": "ipython",
    "version": 3
   },
   "file_extension": ".py",
   "mimetype": "text/x-python",
   "name": "python",
   "nbconvert_exporter": "python",
   "pygments_lexer": "ipython3",
   "version": "3.6.8"
  }
 },
 "nbformat": 4,
 "nbformat_minor": 2
}
